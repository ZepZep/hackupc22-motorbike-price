{
 "cells": [
  {
   "cell_type": "code",
   "execution_count": 2,
   "id": "61838289-0604-4f23-91ab-ec35ced2d6ed",
   "metadata": {},
   "outputs": [],
   "source": [
    "import pandas as pd\n",
    "import numpy as np"
   ]
  },
  {
   "cell_type": "code",
   "execution_count": 24,
   "id": "2fc1b83a-e5a5-4a08-bebd-caed245fbab7",
   "metadata": {},
   "outputs": [
    {
     "data": {
      "text/html": [
       "<div>\n",
       "<style scoped>\n",
       "    .dataframe tbody tr th:only-of-type {\n",
       "        vertical-align: middle;\n",
       "    }\n",
       "\n",
       "    .dataframe tbody tr th {\n",
       "        vertical-align: top;\n",
       "    }\n",
       "\n",
       "    .dataframe thead th {\n",
       "        text-align: right;\n",
       "    }\n",
       "</style>\n",
       "<table border=\"1\" class=\"dataframe\">\n",
       "  <thead>\n",
       "    <tr style=\"text-align: right;\">\n",
       "      <th></th>\n",
       "      <th>id</th>\n",
       "      <th>brand</th>\n",
       "      <th>model</th>\n",
       "      <th>version</th>\n",
       "      <th>year</th>\n",
       "      <th>km</th>\n",
       "      <th>sell_price</th>\n",
       "      <th>purchase_price</th>\n",
       "      <th>name</th>\n",
       "    </tr>\n",
       "  </thead>\n",
       "  <tbody>\n",
       "    <tr>\n",
       "      <th>0</th>\n",
       "      <td>24</td>\n",
       "      <td>YAMAHA</td>\n",
       "      <td>X-MAX</td>\n",
       "      <td>250</td>\n",
       "      <td>2018.0</td>\n",
       "      <td>40000.0</td>\n",
       "      <td>4990.0</td>\n",
       "      <td>NaN</td>\n",
       "      <td>YAMAHA_X-MAX_250</td>\n",
       "    </tr>\n",
       "    <tr>\n",
       "      <th>3</th>\n",
       "      <td>37</td>\n",
       "      <td>YAMAHA</td>\n",
       "      <td>YZF</td>\n",
       "      <td>R1</td>\n",
       "      <td>2005.0</td>\n",
       "      <td>50000.0</td>\n",
       "      <td>4690.0</td>\n",
       "      <td>NaN</td>\n",
       "      <td>YAMAHA_YZF_R1</td>\n",
       "    </tr>\n",
       "    <tr>\n",
       "      <th>5</th>\n",
       "      <td>40</td>\n",
       "      <td>KAWASAKI</td>\n",
       "      <td>Z</td>\n",
       "      <td>900</td>\n",
       "      <td>2018.0</td>\n",
       "      <td>22800.0</td>\n",
       "      <td>6590.0</td>\n",
       "      <td>NaN</td>\n",
       "      <td>KAWASAKI_Z_900</td>\n",
       "    </tr>\n",
       "    <tr>\n",
       "      <th>7</th>\n",
       "      <td>59</td>\n",
       "      <td>KAWASAKI</td>\n",
       "      <td>VN</td>\n",
       "      <td>900 CLASSIC</td>\n",
       "      <td>2009.0</td>\n",
       "      <td>35000.0</td>\n",
       "      <td>4990.0</td>\n",
       "      <td>NaN</td>\n",
       "      <td>KAWASAKI_VN_900 CLASSIC</td>\n",
       "    </tr>\n",
       "    <tr>\n",
       "      <th>17</th>\n",
       "      <td>99</td>\n",
       "      <td>HONDA</td>\n",
       "      <td>[*AJ*] CBR</td>\n",
       "      <td>600 RR</td>\n",
       "      <td>2019.0</td>\n",
       "      <td>10000.0</td>\n",
       "      <td>8190.0</td>\n",
       "      <td>NaN</td>\n",
       "      <td>HONDA_[*AJ*] CBR_600 RR</td>\n",
       "    </tr>\n",
       "    <tr>\n",
       "      <th>...</th>\n",
       "      <td>...</td>\n",
       "      <td>...</td>\n",
       "      <td>...</td>\n",
       "      <td>...</td>\n",
       "      <td>...</td>\n",
       "      <td>...</td>\n",
       "      <td>...</td>\n",
       "      <td>...</td>\n",
       "      <td>...</td>\n",
       "    </tr>\n",
       "    <tr>\n",
       "      <th>10155</th>\n",
       "      <td>55556</td>\n",
       "      <td>PEUGEOT</td>\n",
       "      <td>TWEET</td>\n",
       "      <td>125</td>\n",
       "      <td>2018.0</td>\n",
       "      <td>10000.0</td>\n",
       "      <td>1590.0</td>\n",
       "      <td>NaN</td>\n",
       "      <td>PEUGEOT_TWEET_125</td>\n",
       "    </tr>\n",
       "    <tr>\n",
       "      <th>10157</th>\n",
       "      <td>55582</td>\n",
       "      <td>HONDA</td>\n",
       "      <td>CBF</td>\n",
       "      <td>600 S</td>\n",
       "      <td>2007.0</td>\n",
       "      <td>10000.0</td>\n",
       "      <td>4390.0</td>\n",
       "      <td>NaN</td>\n",
       "      <td>HONDA_CBF_600 S</td>\n",
       "    </tr>\n",
       "    <tr>\n",
       "      <th>10158</th>\n",
       "      <td>55591</td>\n",
       "      <td>PIAGGIO</td>\n",
       "      <td>X EVO</td>\n",
       "      <td>125</td>\n",
       "      <td>2011.0</td>\n",
       "      <td>20000.0</td>\n",
       "      <td>1790.0</td>\n",
       "      <td>NaN</td>\n",
       "      <td>PIAGGIO_X EVO_125</td>\n",
       "    </tr>\n",
       "    <tr>\n",
       "      <th>10159</th>\n",
       "      <td>55613</td>\n",
       "      <td>YAMAHA</td>\n",
       "      <td>X-MAX</td>\n",
       "      <td>125</td>\n",
       "      <td>2018.0</td>\n",
       "      <td>20000.0</td>\n",
       "      <td>3990.0</td>\n",
       "      <td>NaN</td>\n",
       "      <td>YAMAHA_X-MAX_125</td>\n",
       "    </tr>\n",
       "    <tr>\n",
       "      <th>10162</th>\n",
       "      <td>55733</td>\n",
       "      <td>HONDA</td>\n",
       "      <td>VT</td>\n",
       "      <td>750 SHADOW</td>\n",
       "      <td>2006.0</td>\n",
       "      <td>50000.0</td>\n",
       "      <td>4190.0</td>\n",
       "      <td>NaN</td>\n",
       "      <td>HONDA_VT_750 SHADOW</td>\n",
       "    </tr>\n",
       "  </tbody>\n",
       "</table>\n",
       "<p>7551 rows × 9 columns</p>\n",
       "</div>"
      ],
      "text/plain": [
       "          id     brand       model      version    year       km  sell_price  \\\n",
       "0         24    YAMAHA       X-MAX          250  2018.0  40000.0      4990.0   \n",
       "3         37    YAMAHA         YZF           R1  2005.0  50000.0      4690.0   \n",
       "5         40  KAWASAKI           Z          900  2018.0  22800.0      6590.0   \n",
       "7         59  KAWASAKI          VN  900 CLASSIC  2009.0  35000.0      4990.0   \n",
       "17        99     HONDA  [*AJ*] CBR       600 RR  2019.0  10000.0      8190.0   \n",
       "...      ...       ...         ...          ...     ...      ...         ...   \n",
       "10155  55556   PEUGEOT       TWEET          125  2018.0  10000.0      1590.0   \n",
       "10157  55582     HONDA         CBF        600 S  2007.0  10000.0      4390.0   \n",
       "10158  55591   PIAGGIO       X EVO          125  2011.0  20000.0      1790.0   \n",
       "10159  55613    YAMAHA       X-MAX          125  2018.0  20000.0      3990.0   \n",
       "10162  55733     HONDA          VT   750 SHADOW  2006.0  50000.0      4190.0   \n",
       "\n",
       "       purchase_price                     name  \n",
       "0                 NaN         YAMAHA_X-MAX_250  \n",
       "3                 NaN            YAMAHA_YZF_R1  \n",
       "5                 NaN           KAWASAKI_Z_900  \n",
       "7                 NaN  KAWASAKI_VN_900 CLASSIC  \n",
       "17                NaN  HONDA_[*AJ*] CBR_600 RR  \n",
       "...               ...                      ...  \n",
       "10155             NaN        PEUGEOT_TWEET_125  \n",
       "10157             NaN          HONDA_CBF_600 S  \n",
       "10158             NaN        PIAGGIO_X EVO_125  \n",
       "10159             NaN         YAMAHA_X-MAX_125  \n",
       "10162             NaN      HONDA_VT_750 SHADOW  \n",
       "\n",
       "[7551 rows x 9 columns]"
      ]
     },
     "execution_count": 24,
     "metadata": {},
     "output_type": "execute_result"
    }
   ],
   "source": [
    "apr = pd.read_csv(\"appraisal.csv\", on_bad_lines='skip')\n",
    "usefull_view = apr.groupby([\"brand\", \"model\", \"version\"]).nunique().sort_values(\"id\", ascending=False)\n",
    "usefull_view = usefull_view.head(300)\n",
    "useful_names = set(usefull_view.index.map(\"_\".join))\n",
    "apr[\"name\"] = apr[\"brand\"] + \"_\" +  apr[\"model\"] + \"_\" +  apr[\"version\"]\n",
    "uapr = apr[apr[\"name\"].apply(lambda x: x in useful_names)]\n",
    "uapr = uapr[uapr[\"sell_price\"] < 1e5]\n",
    "uapr"
   ]
  },
  {
   "cell_type": "code",
   "execution_count": 29,
   "id": "c11d2bae-07b1-4b86-be5b-c271354259f8",
   "metadata": {},
   "outputs": [],
   "source": [
    "\n",
    "features = pd.DataFrame({\n",
    "    \"name\": uapr[\"name\"].astype(\"category\"),\n",
    "    \"brand\": uapr[\"brand\"].astype(\"category\"),\n",
    "    \"model\": uapr[\"model\"].astype(\"category\"),\n",
    "    \"version\": uapr[\"version\"].astype(\"category\"),\n",
    "    \"age\": 2022 - uapr[\"year\"],\n",
    "    \"km\": uapr[\"km\"],\n",
    "    \"log_km\": np.log(uapr[\"km\"]),\n",
    "})\n",
    "\n",
    "y = uapr[\"sell_price\"]\n",
    "\n"
   ]
  },
  {
   "cell_type": "code",
   "execution_count": 39,
   "id": "a76898bf-9129-4370-aeaf-03f172a1feda",
   "metadata": {},
   "outputs": [],
   "source": [
    "from sklearn.model_selection import train_test_split\n",
    "\n",
    "X_train, X_test, y_train, y_test = train_test_split(features, y, random_state=42)"
   ]
  },
  {
   "cell_type": "code",
   "execution_count": 61,
   "id": "a3f91a02-87b6-44c8-8b8b-e6b8c9b731ca",
   "metadata": {},
   "outputs": [],
   "source": [
    "from autosklearn.regression import AutoSklearnRegressor\n",
    "amodel = AutoSklearnRegressor(\n",
    "    time_left_for_this_task=300,\n",
    "    ensemble_size=10,\n",
    "    n_jobs=4,\n",
    ")"
   ]
  },
  {
   "cell_type": "code",
   "execution_count": null,
   "id": "f442ff34-0e26-4b3a-a040-ecb5ef484b71",
   "metadata": {},
   "outputs": [],
   "source": [
    "amodel.fit(\n",
    "    X_train,\n",
    "    y_train,\n",
    "    dataset_name=\"Motorbikes\"\n",
    ")"
   ]
  },
  {
   "cell_type": "code",
   "execution_count": 63,
   "id": "6e439e73-a17b-40e9-8d11-d57b33430222",
   "metadata": {},
   "outputs": [
    {
     "data": {
      "text/plain": [
       "<AxesSubplot:title={'center':'Train scatter | mse=570.111'}, xlabel='predicted', ylabel='true'>"
      ]
     },
     "execution_count": 63,
     "metadata": {},
     "output_type": "execute_result"
    },
    {
     "data": {
      "image/png": "[encoded data removed]",
      "text/plain": [
       "<Figure size 432x288 with 1 Axes>"
      ]
     },
     "metadata": {
      "needs_background": "light"
     },
     "output_type": "display_data"
    }
   ],
   "source": [
    "errors = pd.DataFrame({\"predicted\": amodel.predict(X_train), \"true\": y_train})\n",
    "errors[\"err\"] = errors[\"true\"] - errors[\"predicted\"]\n",
    "mse = ((errors[\"err\"]**2).sum()/len(errors))**0.5\n",
    "errors.plot.scatter(\"predicted\", \"true\", title=f\"Train scatter | mse={mse:.3f}\")"
   ]
  },
  {
   "cell_type": "code",
   "execution_count": 64,
   "id": "4eebcc76-5510-4263-b500-126f3cd88926",
   "metadata": {},
   "outputs": [
    {
     "data": {
      "text/plain": [
       "<AxesSubplot:title={'center':'Test scatter | mse=988.762'}, xlabel='predicted', ylabel='true'>"
      ]
     },
     "execution_count": 64,
     "metadata": {},
     "output_type": "execute_result"
    },
    {
     "data": {
      "image/png": "[encoded data removed]",
      "text/plain": [
       "<Figure size 432x288 with 1 Axes>"
      ]
     },
     "metadata": {
      "needs_background": "light"
     },
     "output_type": "display_data"
    }
   ],
   "source": [
    "errors = pd.DataFrame({\"predicted\": amodel.predict(X_test), \"true\": y_test})\n",
    "errors[\"err\"] = errors[\"true\"] - errors[\"predicted\"]\n",
    "mse = ((errors[\"err\"]**2).sum()/len(errors))**0.5\n",
    "errors.plot.scatter(\"predicted\", \"true\", title=f\"Test scatter | mse={mse:.3f}\")"
   ]
  },
  {
   "cell_type": "code",
   "execution_count": 65,
   "id": "0de0464a-8a6b-4c7f-b675-bd5061ed56d0",
   "metadata": {},
   "outputs": [
    {
     "data": {
      "text/plain": [
       "{54: {'model_id': 54,\n",
       "  'rank': 1,\n",
       "  'cost': 0.05819591450606154,\n",
       "  'ensemble_weight': 0.1,\n",
       "  'data_preprocessor': <autosklearn.pipeline.components.data_preprocessing.DataPreprocessorChoice at 0x7fdd0e6056f0>,\n",
       "  'feature_preprocessor': <autosklearn.pipeline.components.feature_preprocessing.FeaturePreprocessorChoice at 0x7fdcfc4b2b30>,\n",
       "  'regressor': <autosklearn.pipeline.components.regression.RegressorChoice at 0x7fdcfd636860>,\n",
       "  'sklearn_regressor': HistGradientBoostingRegressor(l2_regularization=1.1616651474858123e-05,\n",
       "                                learning_rate=0.020807600931828166, max_iter=512,\n",
       "                                max_leaf_nodes=54, min_samples_leaf=1,\n",
       "                                n_iter_no_change=9, random_state=1,\n",
       "                                validation_fraction=None, warm_start=True)},\n",
       " 39: {'model_id': 39,\n",
       "  'rank': 2,\n",
       "  'cost': 0.05936157045691337,\n",
       "  'ensemble_weight': 0.3,\n",
       "  'data_preprocessor': <autosklearn.pipeline.components.data_preprocessing.DataPreprocessorChoice at 0x7fdd0e0c0040>,\n",
       "  'feature_preprocessor': <autosklearn.pipeline.components.feature_preprocessing.FeaturePreprocessorChoice at 0x7fdd0c3c2bc0>,\n",
       "  'regressor': <autosklearn.pipeline.components.regression.RegressorChoice at 0x7fdd0c3c0b50>,\n",
       "  'sklearn_regressor': HistGradientBoostingRegressor(l2_regularization=5.435352626577266e-06,\n",
       "                                learning_rate=0.09604272126690666, max_iter=512,\n",
       "                                max_leaf_nodes=1734, min_samples_leaf=73,\n",
       "                                n_iter_no_change=18, random_state=1,\n",
       "                                warm_start=True)},\n",
       " 56: {'model_id': 56,\n",
       "  'rank': 3,\n",
       "  'cost': 0.059556114544372596,\n",
       "  'ensemble_weight': 0.2,\n",
       "  'data_preprocessor': <autosklearn.pipeline.components.data_preprocessing.DataPreprocessorChoice at 0x7fdd0e0c3f40>,\n",
       "  'feature_preprocessor': <autosklearn.pipeline.components.feature_preprocessing.FeaturePreprocessorChoice at 0x7fdd0e04fca0>,\n",
       "  'regressor': <autosklearn.pipeline.components.regression.RegressorChoice at 0x7fdd0e04e890>,\n",
       "  'sklearn_regressor': HistGradientBoostingRegressor(l2_regularization=1.480660791564307e-05,\n",
       "                                learning_rate=0.037500586475227374, max_iter=512,\n",
       "                                max_leaf_nodes=72, min_samples_leaf=2,\n",
       "                                n_iter_no_change=18, random_state=1,\n",
       "                                validation_fraction=None, warm_start=True)},\n",
       " 6: {'model_id': 6,\n",
       "  'rank': 4,\n",
       "  'cost': 0.06186158398366293,\n",
       "  'ensemble_weight': 0.3,\n",
       "  'data_preprocessor': <autosklearn.pipeline.components.data_preprocessing.DataPreprocessorChoice at 0x7fdd0e06d330>,\n",
       "  'feature_preprocessor': <autosklearn.pipeline.components.feature_preprocessing.FeaturePreprocessorChoice at 0x7fdcfc1ff730>,\n",
       "  'regressor': <autosklearn.pipeline.components.regression.RegressorChoice at 0x7fdcfc1fe920>,\n",
       "  'sklearn_regressor': HistGradientBoostingRegressor(l2_regularization=0.005746611563553693,\n",
       "                                learning_rate=0.0913971028976721, max_iter=512,\n",
       "                                max_leaf_nodes=9, min_samples_leaf=2,\n",
       "                                n_iter_no_change=20, random_state=1,\n",
       "                                validation_fraction=None, warm_start=True)},\n",
       " 36: {'model_id': 36,\n",
       "  'rank': 5,\n",
       "  'cost': 0.08380371478224058,\n",
       "  'ensemble_weight': 0.1,\n",
       "  'data_preprocessor': <autosklearn.pipeline.components.data_preprocessing.DataPreprocessorChoice at 0x7fdd0c3c0280>,\n",
       "  'feature_preprocessor': <autosklearn.pipeline.components.feature_preprocessing.FeaturePreprocessorChoice at 0x7fdd0dbb7c70>,\n",
       "  'regressor': <autosklearn.pipeline.components.regression.RegressorChoice at 0x7fdd0dbb4eb0>,\n",
       "  'sklearn_regressor': HistGradientBoostingRegressor(l2_regularization=0.0015240556460448568,\n",
       "                                learning_rate=0.051320524850111, max_iter=512,\n",
       "                                max_leaf_nodes=48, min_samples_leaf=4,\n",
       "                                n_iter_no_change=0, random_state=1,\n",
       "                                validation_fraction=None, warm_start=True)}}"
      ]
     },
     "execution_count": 65,
     "metadata": {},
     "output_type": "execute_result"
    }
   ],
   "source": [
    "amodel.show_models()"
   ]
  },
  {
   "cell_type": "markdown",
   "id": "b8f593f6-a66f-4cdd-add1-1c8c1d45e520",
   "metadata": {},
   "source": [
    "### First experiment"
   ]
  },
  {
   "cell_type": "code",
   "execution_count": 55,
   "id": "66903689-b33d-4f06-8f75-18241151e594",
   "metadata": {},
   "outputs": [
    {
     "data": {
      "text/plain": [
       "<AxesSubplot:title={'center':'Train scatter | mse=583.668'}, xlabel='predicted', ylabel='true'>"
      ]
     },
     "execution_count": 55,
     "metadata": {},
     "output_type": "execute_result"
    },
    {
     "data": {
      "image/png": "[encoded data removed]",
      "text/plain": [
       "<Figure size 432x288 with 1 Axes>"
      ]
     },
     "metadata": {
      "needs_background": "light"
     },
     "output_type": "display_data"
    }
   ],
   "source": [
    "errors = pd.DataFrame({\"predicted\": amodel.predict(X_train), \"true\": y_train})\n",
    "errors[\"err\"] = errors[\"true\"] - errors[\"predicted\"]\n",
    "mse = ((errors[\"err\"]**2).sum()/len(errors))**0.5\n",
    "errors.plot.scatter(\"predicted\", \"true\", title=f\"Train scatter | mse={mse:.3f}\")"
   ]
  },
  {
   "cell_type": "code",
   "execution_count": 54,
   "id": "d5ad8d38-0999-4e33-a5cc-0bf887037923",
   "metadata": {},
   "outputs": [
    {
     "data": {
      "text/plain": [
       "<AxesSubplot:title={'center':'Test scatter | mse=990.779'}, xlabel='predicted', ylabel='true'>"
      ]
     },
     "execution_count": 54,
     "metadata": {},
     "output_type": "execute_result"
    },
    {
     "data": {
      "image/png": "[encoded data removed]",
      "text/plain": [
       "<Figure size 432x288 with 1 Axes>"
      ]
     },
     "metadata": {
      "needs_background": "light"
     },
     "output_type": "display_data"
    }
   ],
   "source": [
    "errors = pd.DataFrame({\"predicted\": amodel.predict(X_test), \"true\": y_test})\n",
    "errors[\"err\"] = errors[\"true\"] - errors[\"predicted\"]\n",
    "mse = ((errors[\"err\"]**2).sum()/len(errors))**0.5\n",
    "errors.plot.scatter(\"predicted\", \"true\", title=f\"Test scatter | mse={mse:.3f}\")\n"
   ]
  },
  {
   "cell_type": "code",
   "execution_count": 57,
   "id": "dea939c9-9363-4c35-a402-50b7ccfbab0d",
   "metadata": {},
   "outputs": [
    {
     "data": {
      "text/plain": [
       "{50: {'model_id': 50,\n",
       "  'rank': 1,\n",
       "  'cost': 0.057859239984817123,\n",
       "  'ensemble_weight': 0.4,\n",
       "  'data_preprocessor': <autosklearn.pipeline.components.data_preprocessing.DataPreprocessorChoice at 0x7fdd0e709ff0>,\n",
       "  'feature_preprocessor': <autosklearn.pipeline.components.feature_preprocessing.FeaturePreprocessorChoice at 0x7fdd0e684340>,\n",
       "  'regressor': <autosklearn.pipeline.components.regression.RegressorChoice at 0x7fdd0cee3730>,\n",
       "  'sklearn_regressor': HistGradientBoostingRegressor(l2_regularization=0.04388425107184446,\n",
       "                                learning_rate=0.02301347081242202, max_iter=512,\n",
       "                                max_leaf_nodes=45, min_samples_leaf=12,\n",
       "                                n_iter_no_change=12, random_state=1,\n",
       "                                validation_fraction=0.16290444803592366,\n",
       "                                warm_start=True)},\n",
       " 41: {'model_id': 41,\n",
       "  'rank': 2,\n",
       "  'cost': 0.05975043748402009,\n",
       "  'ensemble_weight': 0.2,\n",
       "  'data_preprocessor': <autosklearn.pipeline.components.data_preprocessing.DataPreprocessorChoice at 0x7fdd0e846bc0>,\n",
       "  'feature_preprocessor': <autosklearn.pipeline.components.feature_preprocessing.FeaturePreprocessorChoice at 0x7fdd0e3273a0>,\n",
       "  'regressor': <autosklearn.pipeline.components.regression.RegressorChoice at 0x7fdd0e325e40>,\n",
       "  'sklearn_regressor': HistGradientBoostingRegressor(l2_regularization=9.956496085036849e-06,\n",
       "                                learning_rate=0.03378116964280861, max_iter=512,\n",
       "                                max_leaf_nodes=77, min_samples_leaf=1,\n",
       "                                n_iter_no_change=13, random_state=1,\n",
       "                                validation_fraction=None, warm_start=True)},\n",
       " 6: {'model_id': 6,\n",
       "  'rank': 3,\n",
       "  'cost': 0.06186158398366293,\n",
       "  'ensemble_weight': 0.4,\n",
       "  'data_preprocessor': <autosklearn.pipeline.components.data_preprocessing.DataPreprocessorChoice at 0x7fdd0dcadde0>,\n",
       "  'feature_preprocessor': <autosklearn.pipeline.components.feature_preprocessing.FeaturePreprocessorChoice at 0x7fdd0ddb9f90>,\n",
       "  'regressor': <autosklearn.pipeline.components.regression.RegressorChoice at 0x7fdd0ddba7a0>,\n",
       "  'sklearn_regressor': HistGradientBoostingRegressor(l2_regularization=0.005746611563553693,\n",
       "                                learning_rate=0.0913971028976721, max_iter=512,\n",
       "                                max_leaf_nodes=9, min_samples_leaf=2,\n",
       "                                n_iter_no_change=20, random_state=1,\n",
       "                                validation_fraction=None, warm_start=True)}}"
      ]
     },
     "execution_count": 57,
     "metadata": {},
     "output_type": "execute_result"
    }
   ],
   "source": [
    "amodel.show_models()"
   ]
  }
 ],
 "metadata": {
  "kernelspec": {
   "display_name": "Python 3 (ipykernel)",
   "language": "python",
   "name": "python3"
  },
  "language_info": {
   "codemirror_mode": {
    "name": "ipython",
    "version": 3
   },
   "file_extension": ".py",
   "mimetype": "text/x-python",
   "name": "python",
   "nbconvert_exporter": "python",
   "pygments_lexer": "ipython3",
   "version": "3.10.4"
  }
 },
 "nbformat": 4,
 "nbformat_minor": 5
}
